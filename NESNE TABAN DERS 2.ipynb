{
 "cells": [
  {
   "cell_type": "code",
   "execution_count": null,
   "metadata": {},
   "outputs": [],
   "source": [
    "import datetime\n",
    "class Personel():\n",
    "    def __init__(self,isim,maaş,yıl,bölüm,yaş):\n",
    "        print(\"init fonksiyonu çağrıldı\")  \n",
    "        self.isim = isim\n",
    "        self.maaş = maaş\n",
    "        self.yıl = yıl\n",
    "        self.bölüm = bölüm\n",
    "        self.yaş = yaş\n",
    "    def bilgiler(self):\n",
    "        print(\"\"\"\n",
    "        Personel Bilgileri\n",
    "        \n",
    "        İsim:        {}\n",
    "        \n",
    "        Maaş:        {}\n",
    "        \n",
    "        Yıl:         {}\n",
    "        \n",
    "        Bölüm:       {}\n",
    "        \n",
    "        Yaşı:        {}\n",
    "        \n",
    "        \"\"\".format(self.isim,self.maaş,self.yıl,self.bölüm,self.yaş))\n",
    "    def zam(self,artı):\n",
    "        print(\"Maaşa miktarına zam ekleniyor...\")\n",
    "        self.maaş += artı\n",
    "    def kesyap(self,eksi):\n",
    "        print(\"Maaş miktarına kesinti uygulanıyor...\")\n",
    "        self.maaş -= eksi"
   ]
  },
  {
   "cell_type": "code",
   "execution_count": null,
   "metadata": {},
   "outputs": [],
   "source": [
    "Bçt1 = Personel(\"Gökalp Demir\",6000,3,\"Muhasebe\",36)"
   ]
  },
  {
   "cell_type": "code",
   "execution_count": null,
   "metadata": {},
   "outputs": [],
   "source": [
    "class yönetim(Personel):\n",
    "    pass"
   ]
  },
  {
   "cell_type": "code",
   "execution_count": null,
   "metadata": {},
   "outputs": [],
   "source": [
    "class yönetim(Personel):\n",
    "    def dtarih(self,yıl,ay,gün):\n",
    "        dgün = datetime.datetime(yıl, ay, gün)\n",
    "        bugün = datetime.datetime.today()\n",
    "        yaş = bugün - dgün\n",
    "        self.yaş = round(yaş.days/365,1)\n",
    "        return self.yaş\n",
    "    def güncelle(self,yüzde):\n",
    "        print(\"Personel Bilgileri Düzenleniyor\")\n",
    "        yıl = self.yıl\n",
    "        yaş = self.yaş\n",
    "        kat = (yüzde + yıl + (yaş/20)) / 100\n",
    "        maaş = round((kat+1)*self.maaş,2)\n",
    "        self.maaş = maaş"
   ]
  },
  {
   "cell_type": "code",
   "execution_count": null,
   "metadata": {},
   "outputs": [],
   "source": [
    "Bçt2 = yönetim(\"Yeşim Kılıç\",2500,2,\"İnsan Kaynakları\",27)"
   ]
  },
  {
   "cell_type": "code",
   "execution_count": null,
   "metadata": {},
   "outputs": [],
   "source": [
    "Bçt2.bilgiler()"
   ]
  },
  {
   "cell_type": "code",
   "execution_count": null,
   "metadata": {},
   "outputs": [],
   "source": [
    "Bçt2.dtarih(1981,1,25)"
   ]
  },
  {
   "cell_type": "code",
   "execution_count": null,
   "metadata": {},
   "outputs": [],
   "source": [
    "import datetime\n",
    "class Personel():\n",
    "    def __init__(self,isim,maaş,yıl,bölüm,yaş):\n",
    "        print(\"init fonksiyonu çağrıldı\")  \n",
    "        self.isim = isim\n",
    "        self.maaş = maaş\n",
    "        self.yıl = yıl\n",
    "        self.bölüm = bölüm\n",
    "        self.yaş = yaş\n",
    "    def __str__(self):\n",
    "        return \"Personel Bilgileri\\nİsim:  {}\\nMaaş:  {}\\nYıl:   {}\\nBölüm: {}\\nYaşı:  {}\".format(self.isim,self.maaş,self.yıl,self.bölüm,self.yaş)\n",
    "    def __len__(self):\n",
    "        return self.maaş\n",
    "    def __del__(self):\n",
    "        print(\"Personel bilgisi siliniyor\")\n",
    "    def zam(self,artı):\n",
    "        print(\"Maaşa miktarına zam ekleniyor...\")\n",
    "        self.maaş += artı\n",
    "    def kesyap(self,eksi):\n",
    "        print(\"Maaş miktarına kesinti uygulanıyor...\")\n",
    "        self.maaş -= eksi\n",
    "    def dtarih(self,yıl,ay,gün):\n",
    "        dgün = datetime.datetime(yıl, ay, gün)\n",
    "        bugün = datetime.datetime.today()\n",
    "        yaş = bugün - dgün\n",
    "        self.yaş = round(yaş.days/365,1)\n",
    "        return self.yaş\n",
    "    def güncelle(self,yüzde):\n",
    "        print(\"Personel Bilgileri Düzenleniyor\")\n",
    "        yıl = self.yıl\n",
    "        yaş = self.yaş\n",
    "        kat = (yüzde + yıl + (yaş/20)) / 100\n",
    "        maaş = round((kat+1)*self.maaş,2)\n",
    "        self.maaş = maaş"
   ]
  },
  {
   "cell_type": "code",
   "execution_count": null,
   "metadata": {},
   "outputs": [],
   "source": [
    "Bçt3 = Personel(\"Menekşe Yılmaz\",2500,2,\"Bilişim\",32)"
   ]
  },
  {
   "cell_type": "code",
   "execution_count": null,
   "metadata": {},
   "outputs": [],
   "source": [
    "print(Bçt3)"
   ]
  },
  {
   "cell_type": "code",
   "execution_count": null,
   "metadata": {},
   "outputs": [],
   "source": [
    "len(Bçt3)"
   ]
  },
  {
   "cell_type": "code",
   "execution_count": null,
   "metadata": {},
   "outputs": [],
   "source": [
    "Bçt3"
   ]
  },
  {
   "cell_type": "code",
   "execution_count": null,
   "metadata": {},
   "outputs": [],
   "source": [
    "print(Bçt3)"
   ]
  },
  {
   "cell_type": "code",
   "execution_count": null,
   "metadata": {},
   "outputs": [],
   "source": [
    "print(Bçt3)"
   ]
  },
  {
   "cell_type": "code",
   "execution_count": null,
   "metadata": {},
   "outputs": [],
   "source": [
    "Bçt2.bilgiler()"
   ]
  }
 ],
 "metadata": {
  "kernelspec": {
   "display_name": "Python 3",
   "language": "python",
   "name": "python3"
  },
  "language_info": {
   "codemirror_mode": {
    "name": "ipython",
    "version": 3
   },
   "file_extension": ".py",
   "mimetype": "text/x-python",
   "name": "python",
   "nbconvert_exporter": "python",
   "pygments_lexer": "ipython3",
   "version": "3.7.3"
  }
 },
 "nbformat": 4,
 "nbformat_minor": 2
}
